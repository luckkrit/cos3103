{
 "cells": [
  {
   "cell_type": "markdown",
   "id": "8aa95502",
   "metadata": {},
   "source": [
    "# Connect Database"
   ]
  },
  {
   "cell_type": "code",
   "execution_count": null,
   "id": "14349d29",
   "metadata": {},
   "outputs": [],
   "source": [
    "!pip install pymysql cryptography"
   ]
  },
  {
   "cell_type": "code",
   "execution_count": null,
   "id": "fa4002e3",
   "metadata": {},
   "outputs": [],
   "source": [
    "import pymysql\n",
    "connection = pymysql.connect(\n",
    "    host='localhost',\n",
    "    port=3306,\n",
    "    user='root',\n",
    "    password='root',\n",
    "    database='classicmodels',\n",
    "    cursorclass=pymysql.cursors.DictCursor  # Return dictionary of row that access by column name\n",
    ")\n",
    "print(connection)"
   ]
  },
  {
   "cell_type": "markdown",
   "id": "36072932",
   "metadata": {},
   "source": [
    "# Select First Row"
   ]
  },
  {
   "cell_type": "code",
   "execution_count": null,
   "id": "8b43dec1",
   "metadata": {},
   "outputs": [],
   "source": [
    "import pymysql\n",
    "connection = pymysql.connect(\n",
    "    host='localhost',\n",
    "    port=3306,\n",
    "    user='root',\n",
    "    password='root',\n",
    "    database='classicmodels',\n",
    "    cursorclass=pymysql.cursors.DictCursor  # Return dictionary of row that access by column name\n",
    ")\n",
    "\n",
    "cursor = connection.cursor()\n",
    "cursor.execute('select * from customers')\n",
    "results = cursor.fetchall()\n",
    "\n",
    "print(results[0]) # row 0\n",
    "\n",
    "cursor.close()\n",
    "connection.close()"
   ]
  },
  {
   "cell_type": "markdown",
   "id": "79b0df2e",
   "metadata": {},
   "source": [
    "# Loop First Row (Dictionary)"
   ]
  },
  {
   "cell_type": "code",
   "execution_count": null,
   "id": "306bf5d4",
   "metadata": {},
   "outputs": [],
   "source": [
    "import pymysql\n",
    "connection = pymysql.connect(\n",
    "    host='localhost',\n",
    "    port=3306,\n",
    "    user='root',\n",
    "    password='root',\n",
    "    database='classicmodels',\n",
    "    cursorclass=pymysql.cursors.DictCursor  # Return dictionary of row that access by column name\n",
    ")\n",
    "\n",
    "cursor = connection.cursor()\n",
    "cursor.execute('select * from customers')\n",
    "results = cursor.fetchall()\n",
    "\n",
    "for key, value in results[0].items():\n",
    "    print(f\"Key = {key}, Value = {value}\")\n",
    "\n",
    "\n",
    "cursor.close()\n",
    "connection.close()"
   ]
  },
  {
   "cell_type": "markdown",
   "id": "1dbd2942",
   "metadata": {},
   "source": [
    "# Loop All Rows"
   ]
  },
  {
   "cell_type": "code",
   "execution_count": null,
   "id": "c8e673ac",
   "metadata": {},
   "outputs": [],
   "source": [
    "import pymysql\n",
    "connection = pymysql.connect(\n",
    "    host='localhost',\n",
    "    port=3306,\n",
    "    user='root',\n",
    "    password='root',\n",
    "    database='classicmodels',\n",
    "    cursorclass=pymysql.cursors.DictCursor  # Return dictionary of row that access by column name\n",
    ")\n",
    "\n",
    "cursor = connection.cursor()\n",
    "cursor.execute('select * from customers')\n",
    "results = cursor.fetchall()\n",
    "\n",
    "print(results[0]) # row 0\n",
    "\n",
    "for row in results: # print all rows\n",
    "    for key, value in row.items():\n",
    "        print(f\"Key = {key}, Value = {value}\\n\")\n",
    "\n",
    "\n",
    "cursor.close()\n",
    "connection.close()"
   ]
  },
  {
   "cell_type": "markdown",
   "id": "706c0525",
   "metadata": {},
   "source": [
    "# Select specific column by name"
   ]
  },
  {
   "cell_type": "code",
   "execution_count": null,
   "id": "ea3369df",
   "metadata": {},
   "outputs": [],
   "source": [
    "import pymysql\n",
    "connection = pymysql.connect(\n",
    "    host='localhost',\n",
    "    port=3306,\n",
    "    user='root',\n",
    "    password='root',\n",
    "    database='classicmodels',\n",
    "    cursorclass=pymysql.cursors.DictCursor  # Return dictionary of row that access by column name\n",
    ")\n",
    "\n",
    "cursor = connection.cursor()\n",
    "cursor.execute('select * from customers where creditLimit between %s and %s', [100000, 110000])\n",
    "results = cursor.fetchall()\n",
    "\n",
    "for row in results: # print all rows\n",
    "    print(row['creditLimit'])\n",
    "\n",
    "\n",
    "cursor.close()\n",
    "connection.close()"
   ]
  },
  {
   "cell_type": "markdown",
   "id": "9866b624",
   "metadata": {},
   "source": [
    "# Create Database"
   ]
  },
  {
   "cell_type": "code",
   "execution_count": null,
   "id": "2da53bf7",
   "metadata": {},
   "outputs": [],
   "source": [
    "import pymysql\n",
    "connection = pymysql.connect(\n",
    "    host='localhost',\n",
    "    port=3306,\n",
    "    user='root',\n",
    "    password='root',\n",
    "    # database='classicmodels',\n",
    "    cursorclass=pymysql.cursors.DictCursor  # Return dictionary of row that access by column name\n",
    ")\n",
    "cursor = connection.cursor()\n",
    "cursor.execute(\"CREATE DATABASE IF NOT EXISTS shop_db\")\n",
    "cursor.close()\n",
    "connection.close() # Close connection"
   ]
  },
  {
   "cell_type": "code",
   "execution_count": null,
   "id": "64755663",
   "metadata": {},
   "outputs": [],
   "source": [
    "import pymysql\n",
    "connection = pymysql.connect(\n",
    "    host='localhost',\n",
    "    port=3306,\n",
    "    user='root',\n",
    "    password='root',\n",
    "    database='shop_db',\n",
    "    cursorclass=pymysql.cursors.DictCursor  # Return dictionary of row that access by column name\n",
    ")\n",
    "cursor = connection.cursor()\n",
    "create_users_table = \"\"\"\n",
    "            CREATE TABLE IF NOT EXISTS users (\n",
    "                id INT AUTO_INCREMENT PRIMARY KEY,\n",
    "                name VARCHAR(100) NOT NULL,\n",
    "                email VARCHAR(100) UNIQUE NOT NULL,\n",
    "                created_at TIMESTAMP DEFAULT CURRENT_TIMESTAMP\n",
    "            )\n",
    "            \"\"\"\n",
    "            \n",
    "create_products_table = \"\"\"\n",
    "            CREATE TABLE IF NOT EXISTS products (\n",
    "                id INT AUTO_INCREMENT PRIMARY KEY,\n",
    "                name VARCHAR(200) NOT NULL,\n",
    "                price DECIMAL(10, 2) NOT NULL,\n",
    "                stock INT DEFAULT 0,\n",
    "                created_at TIMESTAMP DEFAULT CURRENT_TIMESTAMP\n",
    "            )\n",
    "            \"\"\"\n",
    "            \n",
    "cursor.execute(create_users_table)\n",
    "cursor.execute(create_products_table)\n",
    "cursor.close()\n",
    "connection.close() # Close connection"
   ]
  },
  {
   "cell_type": "markdown",
   "id": "49daa639",
   "metadata": {},
   "source": [
    "# Insert Users"
   ]
  },
  {
   "cell_type": "code",
   "execution_count": null,
   "id": "d15f6f21",
   "metadata": {},
   "outputs": [],
   "source": [
    "import pymysql\n",
    "connection = pymysql.connect(\n",
    "    host='localhost',\n",
    "    port=3306,\n",
    "    user='root',\n",
    "    password='root',\n",
    "    database='shop_db',\n",
    "    cursorclass=pymysql.cursors.DictCursor  # Return dictionary of row that access by column name\n",
    ")\n",
    "cursor = connection.cursor()\n",
    "\n",
    "users_data = [\n",
    "            ('John Smith', 'john.smith@email.com'),\n",
    "            ('Sarah Johnson', 'sarah.johnson@email.com'),\n",
    "            ('Mike Davis', 'mike.davis@email.com'),\n",
    "            ('Emily Brown', 'emily.brown@email.com'),\n",
    "            ('David Wilson', 'david.wilson@email.com')\n",
    "        ]\n",
    "        \n",
    "sql = \"INSERT INTO users (name, email) VALUES (%s, %s)\"\n",
    "        \n",
    "for name, email in users_data:\n",
    "    cursor.execute(sql, (name, email))\n",
    "            \n",
    "cursor.close()\n",
    "connection.commit()\n",
    "connection.close() "
   ]
  },
  {
   "cell_type": "markdown",
   "id": "baa9c22b",
   "metadata": {},
   "source": [
    "# Update"
   ]
  },
  {
   "cell_type": "code",
   "execution_count": null,
   "id": "f68efb65",
   "metadata": {},
   "outputs": [],
   "source": [
    "import pymysql\n",
    "connection = pymysql.connect(\n",
    "    host='localhost',\n",
    "    port=3306,\n",
    "    user='root',\n",
    "    password='root',\n",
    "    database='shop_db',\n",
    "    cursorclass=pymysql.cursors.DictCursor  # Return dictionary of row that access by column name\n",
    ")\n",
    "cursor = connection.cursor()\n",
    "\n",
    "        \n",
    "sql = \"UPDATE users SET name = %s WHERE id = %s\"\n",
    "name = \"Krit Chomaitong\" \n",
    "cursor.execute(sql, (name, 5))\n",
    "            \n",
    "cursor.close()\n",
    "connection.commit() # Commit to save changes\n",
    "connection.close() "
   ]
  },
  {
   "cell_type": "markdown",
   "id": "3553c9bf",
   "metadata": {},
   "source": [
    "# Delete user"
   ]
  },
  {
   "cell_type": "code",
   "execution_count": null,
   "id": "307ff314",
   "metadata": {},
   "outputs": [],
   "source": [
    "import pymysql\n",
    "connection = pymysql.connect(\n",
    "    host='localhost',\n",
    "    port=3306,\n",
    "    user='root',\n",
    "    password='root',\n",
    "    database='shop_db',\n",
    "    cursorclass=pymysql.cursors.DictCursor  # Return dictionary of row that access by column name\n",
    ")\n",
    "cursor = connection.cursor()\n",
    "\n",
    "        \n",
    "sql = \"DELETE FROM users WHERE id = %s\"\n",
    "cursor.execute(sql, ( 5))\n",
    "            \n",
    "cursor.close()\n",
    "connection.commit() # Commit to save changes\n",
    "connection.close() "
   ]
  },
  {
   "cell_type": "markdown",
   "id": "509c9a49",
   "metadata": {},
   "source": [
    "# Active Record"
   ]
  },
  {
   "cell_type": "code",
   "execution_count": null,
   "id": "967a8883",
   "metadata": {},
   "outputs": [],
   "source": [
    "import pymysql\n",
    "class Database:\n",
    "    def __init__(self, host='localhost',port='', user='root', password='root', database='shop_db'):\n",
    "        try:\n",
    "            self.connection = pymysql.connect(\n",
    "                host=host,\n",
    "                port=port,\n",
    "                user=user,\n",
    "                password=password,\n",
    "                database=database,\n",
    "                cursorclass=pymysql.cursors.DictCursor\n",
    "            )\n",
    "            print(f\"Connected to database: {database}\")\n",
    "        except Exception as e:\n",
    "            print(f\"Failed to connect to database: {e}\")\n",
    "            raise\n",
    "    \n",
    "    def execute_non_query(self, sql, params=None):\n",
    "        cursor = self.connection.cursor()\n",
    "        try:\n",
    "            affected_rows = cursor.execute(sql, params)\n",
    "            self.connection.commit()\n",
    "            return affected_rows\n",
    "        except:\n",
    "            self.connection.rollback()\n",
    "        finally:\n",
    "            cursor.close()\n",
    "\n",
    "    def execute_query(self, sql, params=None):\n",
    "        cursor = self.connection.cursor()\n",
    "        try:\n",
    "            cursor.execute(sql, params)\n",
    "            return cursor.fetchall()\n",
    "        finally:\n",
    "            cursor.close() \n",
    "\n",
    "    def execute_single(self, sql, params=None):\n",
    "        cursor = self.connection.cursor()\n",
    "        try:\n",
    "            cursor.execute(sql, params)\n",
    "            result = cursor.fetchone()\n",
    "            return result\n",
    "        except Exception as e:\n",
    "            print(f\"Error executing single query: {e}\")\n",
    "            raise\n",
    "        finally:\n",
    "            cursor.close()\n",
    "    \n",
    "    def get_last_insert_id(self):\n",
    "        return self.connection.insert_id()\n",
    "    \n",
    "    def close(self):\n",
    "        self.connection.close()\n"
   ]
  },
  {
   "cell_type": "code",
   "execution_count": null,
   "id": "dd29dc30",
   "metadata": {},
   "outputs": [],
   "source": [
    "class User:\n",
    "    def __init__(self,db: Database):\n",
    "        self.db = db\n",
    "\n",
    "    def add_user(self,name, email):\n",
    "        affected_rows = self.db.execute_non_query(\"INSERT INTO users (name, email) VALUES (%s, %s)\",(name, email))\n",
    "\n",
    "    def update_user(self, id, name, email):\n",
    "        affected_rows = self.db.execute_non_query(\"UPDATE users SET name = %s, email = %s WHERE id = %s\",(name, email, id))\n",
    "        return affected_rows\n",
    "\n",
    "    def delete_user(self, id):\n",
    "        affected_rows = self.db.execute_non_query(\"DELETE FROM users WHERE id = %s\",(id))\n",
    "        return affected_rows\n",
    "\n",
    "    def get_user_by_email(self, email):\n",
    "        user = self.db.execute_single(\"SELECT * FROM users WHERE email = %s\",(email))\n",
    "        return user\n",
    "\n",
    "    def get_user_by_name(self, name):\n",
    "        user = self.db.execute_query(\"SELECT * FROM users WHERE name LIKE %s\",(f\"%{name}%\"))\n",
    "        return user\n",
    "\n",
    "    def get_user_by_id(self, id):\n",
    "        user = self.db.execute_single(\"SELECT * FROM users WHERE id = %s\",(id))\n",
    "        return user\n",
    "\n",
    "    def get_users(self):\n",
    "        users = self.db.execute_query(\"SELECT * FROM users \")\n",
    "        return users\n"
   ]
  },
  {
   "cell_type": "code",
   "execution_count": null,
   "id": "bb4dfcb1",
   "metadata": {},
   "outputs": [],
   "source": [
    "db = Database()\n",
    "user = User(db=db)\n",
    "affected_rows = user.add_user(\"Krit2\",\"aaacc@gmail.com\")\n",
    "print(f\"Add user = {affected_rows}\")\n",
    "\n",
    "find_user = user.get_user_by_email(\"aaacc@gmail.com\")\n",
    "print(f\"Find user = {find_user}\")\n",
    "\n",
    "find_user = user.get_user_by_name(\"Krit\")\n",
    "print(f\"Find user = {find_user}\")\n",
    "\n",
    "users = user.get_users()\n",
    "print(f\"All users = {find_user}\")\n",
    "\n",
    "affected_rows = user.update_user(6,name=\"Krit\", email=\"AABBCC@gmail.com\")\n",
    "print(f\"Update user = {find_user}\")\n"
   ]
  }
 ],
 "metadata": {
  "kernelspec": {
   "display_name": "Python 3",
   "language": "python",
   "name": "python3"
  },
  "language_info": {
   "codemirror_mode": {
    "name": "ipython",
    "version": 3
   },
   "file_extension": ".py",
   "mimetype": "text/x-python",
   "name": "python",
   "nbconvert_exporter": "python",
   "pygments_lexer": "ipython3",
   "version": "3.12.10"
  }
 },
 "nbformat": 4,
 "nbformat_minor": 5
}
